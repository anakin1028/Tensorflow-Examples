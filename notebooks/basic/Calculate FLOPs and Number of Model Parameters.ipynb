{
 "cells": [
  {
   "cell_type": "markdown",
   "metadata": {},
   "source": [
    "## Define a simple graph first to get a feel how tf.profiler works\n",
    "[Tensorflow official guide]( https://github.com/tensorflow/tensorflow/blob/master/tensorflow/core/profiler/g3doc/profile_model_architecture.md)\n",
    "\n",
    "[SO REF: Also list APIs for KERAS](https://stackoverflow.com/questions/45085938/tensorflow-is-there-a-way-to-measure-flops-for-a-model?utm_medium=organic&utm_source=google_rich_qa&utm_campaign=google_rich_qa)"
   ]
  },
  {
   "cell_type": "code",
   "execution_count": 8,
   "metadata": {},
   "outputs": [
    {
     "name": "stdout",
     "output_type": "stream",
     "text": [
      "[36.]\n"
     ]
    }
   ],
   "source": [
    "import tensorflow as tf\n",
    "\n",
    "tf.reset_default_graph()\n",
    "\n",
    "# case1 normal save and restore\n",
    "# define simple graphs\n",
    "a = tf.Variable([3.], dtype=tf.float32, name='a')\n",
    "b = tf.placeholder(tf.float32, shape=(), name='input')\n",
    "# In this grpah we have three FLOPs\n",
    "c = tf.multiply(a, b, name='wawa')\n",
    "d = tf.multiply(c, c, name='tata')\n",
    "e = tf.multiply(d, d, name='haha')\n",
    "init = tf.global_variables_initializer()\n",
    "\n",
    "# session will bind to the global default graph\n",
    "saver = tf.train.Saver()\n",
    "with tf.Session() as sess:\n",
    "    sess.run(init)\n",
    "    print(sess.run(d, feed_dict={b:2}))\n",
    "    saver.save(sess, './tmp/model.ckpt')\n",
    "# then under the directory ./tmp you will find the two files\n",
    "# model.ckpt.meta : The definition of graph\n",
    "# model.ckpt.data-00000-of-00001 : The data (the value for the nodes)"
   ]
  },
  {
   "cell_type": "code",
   "execution_count": 9,
   "metadata": {},
   "outputs": [],
   "source": [
    "# here we want to analyze the floating point opearation numbers\n",
    "tf.reset_default_graph()\n",
    "\n",
    "\n",
    "tf.train.import_meta_graph('./tmp/model.ckpt.meta')\n",
    "saver = tf.train.Saver()\n",
    "with tf.Session() as sess:\n",
    "    # The session is binding to the default global graph\n",
    "    tf.profiler.profile(\n",
    "        sess.graph,\n",
    "        options=tf.profiler.ProfileOptionBuilder.float_operation())\n",
    "    \n",
    "    "
   ]
  },
  {
   "cell_type": "markdown",
   "metadata": {},
   "source": [
    "## The output of the terminal will be like the following:\n",
    "Indeed there are three parameters as we have defined in our simple graph\n",
    "\n",
    "```\n",
    "Profile:\n",
    "node name | # float_ops\n",
    "_TFProfRoot (--/3 flops)\n",
    "  haha (1/1 flops)\n",
    "  tata (1/1 flops)\n",
    "  wawa (1/1 flops)\n",
    "```"
   ]
  },
  {
   "cell_type": "markdown",
   "metadata": {},
   "source": [
    "## We can also counts the number of parameters in the graph\n",
    "\n",
    "Before we run the following code, we can first take a look the graph we have defined.\n",
    "\n",
    "There should only be one parameter, 'a'"
   ]
  },
  {
   "cell_type": "code",
   "execution_count": 11,
   "metadata": {},
   "outputs": [
    {
     "name": "stdout",
     "output_type": "stream",
     "text": [
      "total parameters: 1\n"
     ]
    }
   ],
   "source": [
    "# here we want to analyze the floating point opearation numbers\n",
    "tf.reset_default_graph()\n",
    "\n",
    "\n",
    "tf.train.import_meta_graph('./tmp/model.ckpt.meta')\n",
    "saver = tf.train.Saver()\n",
    "with tf.Session() as sess:\n",
    "    # The session is binding to the default global graph\n",
    "    parameters = tf.profiler.profile(\n",
    "        sess.graph,\n",
    "        options=tf.profiler.ProfileOptionBuilder\n",
    "        .trainable_variables_parameter())\n",
    "    print ('total parameters: {}'.format(parameters.total_parameters))\n",
    "    "
   ]
  },
  {
   "cell_type": "markdown",
   "metadata": {},
   "source": [
    "## Now we can define more complicated network and see if tf.profile really does it job!\n",
    "\n",
    "[In this paper: Convolutional Neural Networks for Small-footprint Keyword Spotting](https://static.googleusercontent.com/media/research.google.com/zh-TW//pubs/archive/43969.pdf)\n",
    "\n",
    "The author lists number of parameters and multiplications in a small model, and here we can get a try\n",
    "to see if tf.profiler counts the same number as in the paper\n",
    "\n",
    "The meanings of the parameters are : \n",
    "\n",
    "m : Height of Kernel (Time)\n",
    "\n",
    "r : Width of Kernel  (Frequency)\n",
    "\n",
    "n : Number of Output Channels\n",
    "\n",
    "p :  Pool in height\n",
    "\n",
    "q :  Pool in width\n",
    "\n",
    "```\n",
    "type m  r n  p  q     Par.      Mul.\n",
    "conv 20 8 64 1  3   10.2K       4.4M\n",
    "conv 10 4 64 1  1   164.8K      5.2M\n",
    "lin - - 32 - -      65.5K       65.5K\n",
    "dnn - - 128 - -     4.1K        4.1K\n",
    "softmax - - 4 - -   0.5K        0.5K\n",
    "Total - - - - -     244.2K      9.7M\n",
    "```"
   ]
  },
  {
   "cell_type": "code",
   "execution_count": 21,
   "metadata": {},
   "outputs": [
    {
     "name": "stdout",
     "output_type": "stream",
     "text": [
      "total parameters: 10304\n"
     ]
    }
   ],
   "source": [
    "tf.reset_default_graph()\n",
    "\n",
    "# for simplicity we consider the first conv layer\n",
    "\n",
    "# You can think X as 1 example, 32 timestamps, spectral components for 40 mel-bands, and one input channel\n",
    "# And typically TF call this as NHWC format\n",
    "X = tf.placeholder(tf.float32, [1, 32, 40, 1])\n",
    "# H:20, W:8, Input Channel: 1, Output Channel 64\n",
    "W = tf.Variable(tf.random_normal([20, 8, 1, 64]))\n",
    "b = tf.Variable(tf.random_normal([64]))\n",
    "conv1 = tf.nn.conv2d(X, W, strides=[1,1,1,1], padding='VALID')\n",
    "conv1 = tf.nn.bias_add(conv1, b)\n",
    "conv1 = tf.nn.max_pool(conv1, ksize=[1, 1, 3, 1], strides=[1,1,1,1], padding='VALID')\n",
    "\n",
    "# now we have defined our graph, we can calculate the FLOPs and number of\n",
    "# parameters\n",
    "\n",
    "with tf.Session() as sess:\n",
    "    with tf.Session() as sess:\n",
    "        # The session is binding to the default global graph\n",
    "        tf.profiler.profile(\n",
    "            sess.graph,\n",
    "            options=tf.profiler.ProfileOptionBuilder.float_operation())\n",
    "        parameters = tf.profiler.profile(sess.graph,\n",
    "                                         options=tf.profiler.ProfileOptionBuilder\n",
    "                                         .trainable_variables_parameter())\n",
    "        print ('total parameters: {}'.format(parameters.total_parameters))\n",
    "    \n",
    "\n",
    "# observe the output of this cell: the counts of parameter is indeed 10.2K!"
   ]
  },
  {
   "cell_type": "markdown",
   "metadata": {},
   "source": [
    "## The outputs on the terminal are:\n",
    "\n",
    "For FLOPS: Here the number is 8.91M\n",
    "since it both counts add and multiplications.\n",
    "\n",
    "```\n",
    "Profile:\n",
    "node name | # float_ops\n",
    "_TFProfRoot (--/8.91m flops)\n",
    "  Conv2D (8.79m/8.79m flops)\n",
    "  MaxPool (77.38k/77.38k flops)\n",
    "  BiasAdd (27.46k/27.46k flops)\n",
    "  random_normal (10.24k/20.48k flops)\n",
    "    random_normal/mul (10.24k/10.24k flops)\n",
    "  random_normal_1 (64/128 flops)\n",
    "    random_normal_1/mul (64/64 flops)\n",
    "```\n",
    "\n",
    "For model parameters:\n",
    "\n",
    "```\n",
    "==================Model Analysis Report======================\n",
    "\n",
    "Doc:\n",
    "scope: The nodes in the model graph are organized by their names, which is hierarchical like filesystem.\n",
    "param: Number of parameters (in the Variable).\n",
    "\n",
    "Profile:\n",
    "node name | # parameters\n",
    "_TFProfRoot (--/10.30k params)\n",
    "  Variable (20x8x1x64, 10.24k/10.24k params)\n",
    "  Variable_1 (64, 64/64 params)\n",
    "\n",
    "```\n"
   ]
  }
 ],
 "metadata": {
  "kernelspec": {
   "display_name": "Python 3",
   "language": "python",
   "name": "python3"
  },
  "language_info": {
   "codemirror_mode": {
    "name": "ipython",
    "version": 3
   },
   "file_extension": ".py",
   "mimetype": "text/x-python",
   "name": "python",
   "nbconvert_exporter": "python",
   "pygments_lexer": "ipython3",
   "version": "3.6.5"
  }
 },
 "nbformat": 4,
 "nbformat_minor": 2
}
